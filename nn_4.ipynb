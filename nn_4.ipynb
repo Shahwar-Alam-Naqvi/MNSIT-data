{
 "cells": [
  {
   "cell_type": "code",
   "execution_count": 2,
   "metadata": {},
   "outputs": [
    {
     "name": "stderr",
     "output_type": "stream",
     "text": [
      "c:\\Users\\ShahwarN\\Anaconda3\\lib\\site-packages\\torchvision\\io\\image.py:13: UserWarning: Failed to load image Python extension: [WinError 127] The specified procedure could not be found\n",
      "  warn(f\"Failed to load image Python extension: {e}\")\n"
     ]
    }
   ],
   "source": [
    "import torch\n",
    "import torchvision"
   ]
  },
  {
   "cell_type": "code",
   "execution_count": 3,
   "metadata": {},
   "outputs": [
    {
     "data": {
      "text/plain": [
       "<torch._C.Generator at 0x16056947fb0>"
      ]
     },
     "execution_count": 3,
     "metadata": {},
     "output_type": "execute_result"
    }
   ],
   "source": [
    "n_epochs = 3\n",
    "batch_size_train = 64\n",
    "batch_size_test = 1000\n",
    "learning_rate = 0.01\n",
    "momentum = 0.5\n",
    "log_interval = 10\n",
    "\n",
    "random_seed = 1\n",
    "torch.backends.cudnn.enabled = False\n",
    "torch.manual_seed(random_seed)"
   ]
  },
  {
   "cell_type": "code",
   "execution_count": 4,
   "metadata": {},
   "outputs": [],
   "source": [
    "train_loader = torch.utils.data.DataLoader(\n",
    "  torchvision.datasets.MNIST('/files/', train=True, download=True,\n",
    "                             transform=torchvision.transforms.Compose([\n",
    "                               torchvision.transforms.ToTensor(),\n",
    "                               torchvision.transforms.Normalize(\n",
    "                                 (0.1307,), (0.3081,))\n",
    "                             ])),\n",
    "  batch_size=batch_size_train, shuffle=True)\n",
    "\n",
    "test_loader = torch.utils.data.DataLoader(\n",
    "  torchvision.datasets.MNIST('/files/', train=False, download=True,\n",
    "                             transform=torchvision.transforms.Compose([\n",
    "                               torchvision.transforms.ToTensor(),\n",
    "                               torchvision.transforms.Normalize(\n",
    "                                 (0.1307,), (0.3081,))\n",
    "                             ])),\n",
    "  batch_size=batch_size_test, shuffle=True)"
   ]
  },
  {
   "cell_type": "code",
   "execution_count": 5,
   "metadata": {},
   "outputs": [],
   "source": [
    "examples = enumerate(test_loader)\n",
    "batch_idx, (example_data, example_targets) = next(examples)"
   ]
  },
  {
   "cell_type": "code",
   "execution_count": 6,
   "metadata": {},
   "outputs": [
    {
     "data": {
      "text/plain": [
       "torch.Size([1000, 1, 28, 28])"
      ]
     },
     "execution_count": 6,
     "metadata": {},
     "output_type": "execute_result"
    }
   ],
   "source": [
    "example_data.shape"
   ]
  },
  {
   "cell_type": "code",
   "execution_count": 7,
   "metadata": {},
   "outputs": [
    {
     "data": {
      "image/png": "[encoded data removed]",
      "text/plain": [
       "<Figure size 432x288 with 6 Axes>"
      ]
     },
     "execution_count": 7,
     "metadata": {},
     "output_type": "execute_result"
    },
    {
     "data": {
      "image/png": "[encoded data removed]",
      "text/plain": [
       "<Figure size 432x288 with 6 Axes>"
      ]
     },
     "metadata": {},
     "output_type": "display_data"
    }
   ],
   "source": [
    "import matplotlib.pyplot as plt\n",
    "\n",
    "fig = plt.figure()\n",
    "for i in range(6):\n",
    "  plt.subplot(2,3,i+1)\n",
    "  plt.tight_layout()\n",
    "  plt.imshow(example_data[i][0], cmap='gray', interpolation='none')\n",
    "  plt.title(\"Ground Truth: {}\".format(example_targets[i]))\n",
    "  plt.xticks([])\n",
    "  plt.yticks([])\n",
    "fig"
   ]
  },
  {
   "cell_type": "code",
   "execution_count": 8,
   "metadata": {},
   "outputs": [],
   "source": [
    "import torch.nn as nn\n",
    "import torch.nn.functional as F\n",
    "import torch.optim as optim"
   ]
  },
  {
   "cell_type": "code",
   "execution_count": 9,
   "metadata": {},
   "outputs": [],
   "source": [
    "class Net(nn.Module):\n",
    "    def __init__(self):\n",
    "        super(Net, self).__init__()\n",
    "        self.conv1 = nn.Conv2d(1, 10, kernel_size=5)\n",
    "        self.conv2 = nn.Conv2d(10, 20, kernel_size=5)\n",
    "        self.conv2_drop = nn.Dropout2d()\n",
    "        self.fc1 = nn.Linear(320, 50)\n",
    "        self.fc2 = nn.Linear(50, 10)\n",
    "\n",
    "    def forward(self, x):\n",
    "        x = F.relu(F.max_pool2d(self.conv1(x), 2))\n",
    "        x = F.relu(F.max_pool2d(self.conv2_drop(self.conv2(x)), 2))\n",
    "        x = x.view(-1, 320)\n",
    "        x = F.relu(self.fc1(x))\n",
    "        x = F.dropout(x, training=self.training)\n",
    "        x = self.fc2(x)\n",
    "        return F.log_softmax(x)"
   ]
  },
  {
   "cell_type": "code",
   "execution_count": 10,
   "metadata": {},
   "outputs": [],
   "source": [
    "network = Net()\n",
    "optimizer = optim.SGD(network.parameters(), lr=learning_rate,\n",
    "                      momentum=momentum)"
   ]
  },
  {
   "cell_type": "code",
   "execution_count": 11,
   "metadata": {},
   "outputs": [],
   "source": [
    "train_losses = []\n",
    "train_counter = []\n",
    "test_losses = []\n",
    "test_counter = [i*len(train_loader.dataset) for i in range(n_epochs + 1)]"
   ]
  },
  {
   "cell_type": "code",
   "execution_count": 20,
   "metadata": {},
   "outputs": [],
   "source": [
    "def train(epoch):\n",
    "  network.train()\n",
    "  for batch_idx, (data, target) in enumerate(train_loader):\n",
    "    optimizer.zero_grad()\n",
    "    output = network(data)\n",
    "    loss = F.nll_loss(output, target)\n",
    "    loss.backward()\n",
    "    optimizer.step()\n",
    "    if batch_idx % log_interval == 0:\n",
    "      print('Train Epoch: {} [{}/{} ({:.0f}%)]\\tLoss: {:.6f}'.format(\n",
    "        epoch, batch_idx * len(data), len(train_loader.dataset),\n",
    "        100. * batch_idx / len(train_loader), loss.item()))\n",
    "      train_losses.append(loss.item())\n",
    "      train_counter.append(\n",
    "        (batch_idx*64) + ((epoch-1)*len(train_loader.dataset)))\n",
    "      torch.save(network.state_dict(), './results/model.pth')\n",
    "      torch.save(optimizer.state_dict(), './results/optimizer.pth')"
   ]
  },
  {
   "cell_type": "code",
   "execution_count": 21,
   "metadata": {},
   "outputs": [],
   "source": [
    "def test():\n",
    "  network.eval()\n",
    "  test_loss = 0\n",
    "  correct = 0\n",
    "  with torch.no_grad():\n",
    "    for data, target in test_loader:\n",
    "      output = network(data)\n",
    "      test_loss += F.nll_loss(output, target, size_average=False).item()\n",
    "      pred = output.data.max(1, keepdim=True)[1]\n",
    "      correct += pred.eq(target.data.view_as(pred)).sum()\n",
    "  test_loss /= len(test_loader.dataset)\n",
    "  test_losses.append(test_loss)\n",
    "  print('\\nTest set: Avg. loss: {:.4f}, Accuracy: {}/{} ({:.0f}%)\\n'.format(\n",
    "    test_loss, correct, len(test_loader.dataset),\n",
    "    100. * correct / len(test_loader.dataset)))"
   ]
  },
  {
   "cell_type": "code",
   "execution_count": 22,
   "metadata": {},
   "outputs": [
    {
     "name": "stderr",
     "output_type": "stream",
     "text": [
      "C:\\Users\\ShahwarN\\AppData\\Local\\Temp\\ipykernel_23204\\161431047.py:17: UserWarning: Implicit dimension choice for log_softmax has been deprecated. Change the call to include dim=X as an argument.\n",
      "  return F.log_softmax(x)\n",
      "c:\\Users\\ShahwarN\\Anaconda3\\lib\\site-packages\\torch\\nn\\_reduction.py:42: UserWarning: size_average and reduce args will be deprecated, please use reduction='sum' instead.\n",
      "  warnings.warn(warning.format(ret))\n"
     ]
    },
    {
     "name": "stdout",
     "output_type": "stream",
     "text": [
      "\n",
      "Test set: Avg. loss: 2.3066, Accuracy: 875/10000 (9%)\n",
      "\n",
      "Train Epoch: 1 [0/60000 (0%)]\tLoss: 2.319715\n",
      "Train Epoch: 1 [640/60000 (1%)]\tLoss: 2.295023\n",
      "Train Epoch: 1 [1280/60000 (2%)]\tLoss: 2.303525\n",
      "Train Epoch: 1 [1920/60000 (3%)]\tLoss: 2.260523\n",
      "Train Epoch: 1 [2560/60000 (4%)]\tLoss: 2.234916\n",
      "Train Epoch: 1 [3200/60000 (5%)]\tLoss: 2.238791\n",
      "Train Epoch: 1 [3840/60000 (6%)]\tLoss: 2.219527\n",
      "Train Epoch: 1 [4480/60000 (7%)]\tLoss: 2.170977\n",
      "Train Epoch: 1 [5120/60000 (9%)]\tLoss: 2.098501\n",
      "Train Epoch: 1 [5760/60000 (10%)]\tLoss: 1.887531\n",
      "Train Epoch: 1 [6400/60000 (11%)]\tLoss: 2.019411\n",
      "Train Epoch: 1 [7040/60000 (12%)]\tLoss: 1.866889\n",
      "Train Epoch: 1 [7680/60000 (13%)]\tLoss: 1.729825\n",
      "Train Epoch: 1 [8320/60000 (14%)]\tLoss: 1.614175\n",
      "Train Epoch: 1 [8960/60000 (15%)]\tLoss: 1.513441\n",
      "Train Epoch: 1 [9600/60000 (16%)]\tLoss: 1.533441\n",
      "Train Epoch: 1 [10240/60000 (17%)]\tLoss: 1.569329\n",
      "Train Epoch: 1 [10880/60000 (18%)]\tLoss: 1.333129\n",
      "Train Epoch: 1 [11520/60000 (19%)]\tLoss: 1.092985\n",
      "Train Epoch: 1 [12160/60000 (20%)]\tLoss: 1.111082\n",
      "Train Epoch: 1 [12800/60000 (21%)]\tLoss: 0.863556\n",
      "Train Epoch: 1 [13440/60000 (22%)]\tLoss: 0.912273\n",
      "Train Epoch: 1 [14080/60000 (23%)]\tLoss: 0.997522\n",
      "Train Epoch: 1 [14720/60000 (25%)]\tLoss: 0.928593\n",
      "Train Epoch: 1 [15360/60000 (26%)]\tLoss: 0.869681\n",
      "Train Epoch: 1 [16000/60000 (27%)]\tLoss: 1.074335\n",
      "Train Epoch: 1 [16640/60000 (28%)]\tLoss: 0.924151\n",
      "Train Epoch: 1 [17280/60000 (29%)]\tLoss: 0.835779\n",
      "Train Epoch: 1 [17920/60000 (30%)]\tLoss: 0.814820\n",
      "Train Epoch: 1 [18560/60000 (31%)]\tLoss: 0.867166\n",
      "Train Epoch: 1 [19200/60000 (32%)]\tLoss: 1.050744\n",
      "Train Epoch: 1 [19840/60000 (33%)]\tLoss: 0.833014\n",
      "Train Epoch: 1 [20480/60000 (34%)]\tLoss: 0.864367\n",
      "Train Epoch: 1 [21120/60000 (35%)]\tLoss: 0.810945\n",
      "Train Epoch: 1 [21760/60000 (36%)]\tLoss: 0.668730\n",
      "Train Epoch: 1 [22400/60000 (37%)]\tLoss: 0.679598\n",
      "Train Epoch: 1 [23040/60000 (38%)]\tLoss: 0.810261\n",
      "Train Epoch: 1 [23680/60000 (39%)]\tLoss: 0.784761\n",
      "Train Epoch: 1 [24320/60000 (41%)]\tLoss: 0.789323\n",
      "Train Epoch: 1 [24960/60000 (42%)]\tLoss: 0.835713\n",
      "Train Epoch: 1 [25600/60000 (43%)]\tLoss: 0.728799\n",
      "Train Epoch: 1 [26240/60000 (44%)]\tLoss: 0.880817\n",
      "Train Epoch: 1 [26880/60000 (45%)]\tLoss: 0.777471\n",
      "Train Epoch: 1 [27520/60000 (46%)]\tLoss: 0.588226\n",
      "Train Epoch: 1 [28160/60000 (47%)]\tLoss: 0.619745\n",
      "Train Epoch: 1 [28800/60000 (48%)]\tLoss: 0.678963\n",
      "Train Epoch: 1 [29440/60000 (49%)]\tLoss: 0.586240\n",
      "Train Epoch: 1 [30080/60000 (50%)]\tLoss: 0.574259\n",
      "Train Epoch: 1 [30720/60000 (51%)]\tLoss: 0.504251\n",
      "Train Epoch: 1 [31360/60000 (52%)]\tLoss: 0.506509\n",
      "Train Epoch: 1 [32000/60000 (53%)]\tLoss: 0.706613\n",
      "Train Epoch: 1 [32640/60000 (54%)]\tLoss: 0.489922\n",
      "Train Epoch: 1 [33280/60000 (55%)]\tLoss: 0.435859\n",
      "Train Epoch: 1 [33920/60000 (57%)]\tLoss: 0.705798\n",
      "Train Epoch: 1 [34560/60000 (58%)]\tLoss: 0.334121\n",
      "Train Epoch: 1 [35200/60000 (59%)]\tLoss: 0.530183\n",
      "Train Epoch: 1 [35840/60000 (60%)]\tLoss: 0.628106\n",
      "Train Epoch: 1 [36480/60000 (61%)]\tLoss: 0.648072\n",
      "Train Epoch: 1 [37120/60000 (62%)]\tLoss: 0.616724\n",
      "Train Epoch: 1 [37760/60000 (63%)]\tLoss: 0.450485\n",
      "Train Epoch: 1 [38400/60000 (64%)]\tLoss: 0.403760\n",
      "Train Epoch: 1 [39040/60000 (65%)]\tLoss: 0.832963\n",
      "Train Epoch: 1 [39680/60000 (66%)]\tLoss: 0.363305\n",
      "Train Epoch: 1 [40320/60000 (67%)]\tLoss: 0.493615\n",
      "Train Epoch: 1 [40960/60000 (68%)]\tLoss: 0.599042\n",
      "Train Epoch: 1 [41600/60000 (69%)]\tLoss: 0.693561\n",
      "Train Epoch: 1 [42240/60000 (70%)]\tLoss: 0.551867\n",
      "Train Epoch: 1 [42880/60000 (71%)]\tLoss: 0.382508\n",
      "Train Epoch: 1 [43520/60000 (72%)]\tLoss: 0.451581\n",
      "Train Epoch: 1 [44160/60000 (74%)]\tLoss: 0.495949\n",
      "Train Epoch: 1 [44800/60000 (75%)]\tLoss: 0.490897\n",
      "Train Epoch: 1 [45440/60000 (76%)]\tLoss: 0.421868\n",
      "Train Epoch: 1 [46080/60000 (77%)]\tLoss: 0.384223\n",
      "Train Epoch: 1 [46720/60000 (78%)]\tLoss: 0.336366\n",
      "Train Epoch: 1 [47360/60000 (79%)]\tLoss: 0.550642\n",
      "Train Epoch: 1 [48000/60000 (80%)]\tLoss: 0.702911\n",
      "Train Epoch: 1 [48640/60000 (81%)]\tLoss: 0.367157\n",
      "Train Epoch: 1 [49280/60000 (82%)]\tLoss: 0.508284\n",
      "Train Epoch: 1 [49920/60000 (83%)]\tLoss: 0.401079\n",
      "Train Epoch: 1 [50560/60000 (84%)]\tLoss: 0.401019\n",
      "Train Epoch: 1 [51200/60000 (85%)]\tLoss: 0.304795\n",
      "Train Epoch: 1 [51840/60000 (86%)]\tLoss: 0.401696\n",
      "Train Epoch: 1 [52480/60000 (87%)]\tLoss: 0.400062\n",
      "Train Epoch: 1 [53120/60000 (88%)]\tLoss: 0.468104\n",
      "Train Epoch: 1 [53760/60000 (90%)]\tLoss: 0.640629\n",
      "Train Epoch: 1 [54400/60000 (91%)]\tLoss: 0.907302\n",
      "Train Epoch: 1 [55040/60000 (92%)]\tLoss: 0.494434\n",
      "Train Epoch: 1 [55680/60000 (93%)]\tLoss: 0.388041\n",
      "Train Epoch: 1 [56320/60000 (94%)]\tLoss: 0.408239\n",
      "Train Epoch: 1 [56960/60000 (95%)]\tLoss: 0.345402\n",
      "Train Epoch: 1 [57600/60000 (96%)]\tLoss: 0.513216\n",
      "Train Epoch: 1 [58240/60000 (97%)]\tLoss: 0.473200\n",
      "Train Epoch: 1 [58880/60000 (98%)]\tLoss: 0.522354\n",
      "Train Epoch: 1 [59520/60000 (99%)]\tLoss: 0.393453\n",
      "\n",
      "Test set: Avg. loss: 0.1870, Accuracy: 9457/10000 (95%)\n",
      "\n",
      "Train Epoch: 2 [0/60000 (0%)]\tLoss: 0.250051\n",
      "Train Epoch: 2 [640/60000 (1%)]\tLoss: 0.556908\n",
      "Train Epoch: 2 [1280/60000 (2%)]\tLoss: 0.596169\n",
      "Train Epoch: 2 [1920/60000 (3%)]\tLoss: 0.366665\n",
      "Train Epoch: 2 [2560/60000 (4%)]\tLoss: 0.362950\n",
      "Train Epoch: 2 [3200/60000 (5%)]\tLoss: 0.389720\n",
      "Train Epoch: 2 [3840/60000 (6%)]\tLoss: 0.459613\n",
      "Train Epoch: 2 [4480/60000 (7%)]\tLoss: 0.396731\n",
      "Train Epoch: 2 [5120/60000 (9%)]\tLoss: 0.339176\n",
      "Train Epoch: 2 [5760/60000 (10%)]\tLoss: 0.408899\n",
      "Train Epoch: 2 [6400/60000 (11%)]\tLoss: 0.320482\n",
      "Train Epoch: 2 [7040/60000 (12%)]\tLoss: 0.464913\n",
      "Train Epoch: 2 [7680/60000 (13%)]\tLoss: 0.365567\n",
      "Train Epoch: 2 [8320/60000 (14%)]\tLoss: 0.419929\n",
      "Train Epoch: 2 [8960/60000 (15%)]\tLoss: 0.347331\n",
      "Train Epoch: 2 [9600/60000 (16%)]\tLoss: 0.331118\n",
      "Train Epoch: 2 [10240/60000 (17%)]\tLoss: 0.315387\n",
      "Train Epoch: 2 [10880/60000 (18%)]\tLoss: 0.380233\n",
      "Train Epoch: 2 [11520/60000 (19%)]\tLoss: 0.424713\n",
      "Train Epoch: 2 [12160/60000 (20%)]\tLoss: 0.250556\n",
      "Train Epoch: 2 [12800/60000 (21%)]\tLoss: 0.417768\n",
      "Train Epoch: 2 [13440/60000 (22%)]\tLoss: 0.348285\n",
      "Train Epoch: 2 [14080/60000 (23%)]\tLoss: 0.294892\n",
      "Train Epoch: 2 [14720/60000 (25%)]\tLoss: 0.420585\n",
      "Train Epoch: 2 [15360/60000 (26%)]\tLoss: 0.348215\n",
      "Train Epoch: 2 [16000/60000 (27%)]\tLoss: 0.430834\n",
      "Train Epoch: 2 [16640/60000 (28%)]\tLoss: 0.816636\n",
      "Train Epoch: 2 [17280/60000 (29%)]\tLoss: 0.431031\n",
      "Train Epoch: 2 [17920/60000 (30%)]\tLoss: 0.193871\n",
      "Train Epoch: 2 [18560/60000 (31%)]\tLoss: 0.490338\n",
      "Train Epoch: 2 [19200/60000 (32%)]\tLoss: 0.589316\n",
      "Train Epoch: 2 [19840/60000 (33%)]\tLoss: 0.491410\n",
      "Train Epoch: 2 [20480/60000 (34%)]\tLoss: 0.478257\n",
      "Train Epoch: 2 [21120/60000 (35%)]\tLoss: 0.253719\n",
      "Train Epoch: 2 [21760/60000 (36%)]\tLoss: 0.578116\n",
      "Train Epoch: 2 [22400/60000 (37%)]\tLoss: 0.503703\n",
      "Train Epoch: 2 [23040/60000 (38%)]\tLoss: 0.337423\n",
      "Train Epoch: 2 [23680/60000 (39%)]\tLoss: 0.378368\n",
      "Train Epoch: 2 [24320/60000 (41%)]\tLoss: 0.316108\n",
      "Train Epoch: 2 [24960/60000 (42%)]\tLoss: 0.400515\n",
      "Train Epoch: 2 [25600/60000 (43%)]\tLoss: 0.304805\n",
      "Train Epoch: 2 [26240/60000 (44%)]\tLoss: 0.328350\n",
      "Train Epoch: 2 [26880/60000 (45%)]\tLoss: 0.422540\n",
      "Train Epoch: 2 [27520/60000 (46%)]\tLoss: 0.295368\n",
      "Train Epoch: 2 [28160/60000 (47%)]\tLoss: 0.456449\n",
      "Train Epoch: 2 [28800/60000 (48%)]\tLoss: 0.314971\n",
      "Train Epoch: 2 [29440/60000 (49%)]\tLoss: 0.336331\n",
      "Train Epoch: 2 [30080/60000 (50%)]\tLoss: 0.581527\n",
      "Train Epoch: 2 [30720/60000 (51%)]\tLoss: 0.278773\n",
      "Train Epoch: 2 [31360/60000 (52%)]\tLoss: 0.709284\n",
      "Train Epoch: 2 [32000/60000 (53%)]\tLoss: 0.414286\n",
      "Train Epoch: 2 [32640/60000 (54%)]\tLoss: 0.363617\n",
      "Train Epoch: 2 [33280/60000 (55%)]\tLoss: 0.297152\n",
      "Train Epoch: 2 [33920/60000 (57%)]\tLoss: 0.338064\n",
      "Train Epoch: 2 [34560/60000 (58%)]\tLoss: 0.389919\n",
      "Train Epoch: 2 [35200/60000 (59%)]\tLoss: 0.243095\n",
      "Train Epoch: 2 [35840/60000 (60%)]\tLoss: 0.355886\n",
      "Train Epoch: 2 [36480/60000 (61%)]\tLoss: 0.423598\n",
      "Train Epoch: 2 [37120/60000 (62%)]\tLoss: 0.540119\n",
      "Train Epoch: 2 [37760/60000 (63%)]\tLoss: 0.444308\n",
      "Train Epoch: 2 [38400/60000 (64%)]\tLoss: 0.285385\n",
      "Train Epoch: 2 [39040/60000 (65%)]\tLoss: 0.356213\n",
      "Train Epoch: 2 [39680/60000 (66%)]\tLoss: 0.234624\n",
      "Train Epoch: 2 [40320/60000 (67%)]\tLoss: 0.213915\n",
      "Train Epoch: 2 [40960/60000 (68%)]\tLoss: 0.419479\n",
      "Train Epoch: 2 [41600/60000 (69%)]\tLoss: 0.371425\n",
      "Train Epoch: 2 [42240/60000 (70%)]\tLoss: 0.315816\n",
      "Train Epoch: 2 [42880/60000 (71%)]\tLoss: 0.297940\n",
      "Train Epoch: 2 [43520/60000 (72%)]\tLoss: 0.327067\n",
      "Train Epoch: 2 [44160/60000 (74%)]\tLoss: 0.537147\n",
      "Train Epoch: 2 [44800/60000 (75%)]\tLoss: 0.292145\n",
      "Train Epoch: 2 [45440/60000 (76%)]\tLoss: 0.197156\n",
      "Train Epoch: 2 [46080/60000 (77%)]\tLoss: 0.197465\n",
      "Train Epoch: 2 [46720/60000 (78%)]\tLoss: 0.214870\n",
      "Train Epoch: 2 [47360/60000 (79%)]\tLoss: 0.419924\n",
      "Train Epoch: 2 [48000/60000 (80%)]\tLoss: 0.377025\n",
      "Train Epoch: 2 [48640/60000 (81%)]\tLoss: 0.115037\n",
      "Train Epoch: 2 [49280/60000 (82%)]\tLoss: 0.404992\n",
      "Train Epoch: 2 [49920/60000 (83%)]\tLoss: 0.196053\n",
      "Train Epoch: 2 [50560/60000 (84%)]\tLoss: 0.228872\n",
      "Train Epoch: 2 [51200/60000 (85%)]\tLoss: 0.274697\n",
      "Train Epoch: 2 [51840/60000 (86%)]\tLoss: 0.309825\n",
      "Train Epoch: 2 [52480/60000 (87%)]\tLoss: 0.281336\n",
      "Train Epoch: 2 [53120/60000 (88%)]\tLoss: 0.168290\n",
      "Train Epoch: 2 [53760/60000 (90%)]\tLoss: 0.421581\n",
      "Train Epoch: 2 [54400/60000 (91%)]\tLoss: 0.702769\n",
      "Train Epoch: 2 [55040/60000 (92%)]\tLoss: 0.402560\n",
      "Train Epoch: 2 [55680/60000 (93%)]\tLoss: 0.250301\n",
      "Train Epoch: 2 [56320/60000 (94%)]\tLoss: 0.305465\n",
      "Train Epoch: 2 [56960/60000 (95%)]\tLoss: 0.294946\n",
      "Train Epoch: 2 [57600/60000 (96%)]\tLoss: 0.537885\n",
      "Train Epoch: 2 [58240/60000 (97%)]\tLoss: 0.319650\n",
      "Train Epoch: 2 [58880/60000 (98%)]\tLoss: 0.393652\n",
      "Train Epoch: 2 [59520/60000 (99%)]\tLoss: 0.451644\n",
      "\n",
      "Test set: Avg. loss: 0.1162, Accuracy: 9659/10000 (97%)\n",
      "\n",
      "Train Epoch: 3 [0/60000 (0%)]\tLoss: 0.166740\n",
      "Train Epoch: 3 [640/60000 (1%)]\tLoss: 0.274261\n",
      "Train Epoch: 3 [1280/60000 (2%)]\tLoss: 0.347880\n",
      "Train Epoch: 3 [1920/60000 (3%)]\tLoss: 0.340841\n",
      "Train Epoch: 3 [2560/60000 (4%)]\tLoss: 0.217351\n",
      "Train Epoch: 3 [3200/60000 (5%)]\tLoss: 0.436499\n",
      "Train Epoch: 3 [3840/60000 (6%)]\tLoss: 0.334319\n",
      "Train Epoch: 3 [4480/60000 (7%)]\tLoss: 0.537580\n",
      "Train Epoch: 3 [5120/60000 (9%)]\tLoss: 0.365611\n",
      "Train Epoch: 3 [5760/60000 (10%)]\tLoss: 0.308185\n",
      "Train Epoch: 3 [6400/60000 (11%)]\tLoss: 0.420580\n",
      "Train Epoch: 3 [7040/60000 (12%)]\tLoss: 0.275957\n",
      "Train Epoch: 3 [7680/60000 (13%)]\tLoss: 0.302294\n",
      "Train Epoch: 3 [8320/60000 (14%)]\tLoss: 0.335284\n",
      "Train Epoch: 3 [8960/60000 (15%)]\tLoss: 0.446783\n",
      "Train Epoch: 3 [9600/60000 (16%)]\tLoss: 0.320051\n",
      "Train Epoch: 3 [10240/60000 (17%)]\tLoss: 0.553620\n",
      "Train Epoch: 3 [10880/60000 (18%)]\tLoss: 0.400042\n",
      "Train Epoch: 3 [11520/60000 (19%)]\tLoss: 0.200154\n",
      "Train Epoch: 3 [12160/60000 (20%)]\tLoss: 0.186996\n",
      "Train Epoch: 3 [12800/60000 (21%)]\tLoss: 0.280000\n",
      "Train Epoch: 3 [13440/60000 (22%)]\tLoss: 0.369436\n",
      "Train Epoch: 3 [14080/60000 (23%)]\tLoss: 0.384975\n",
      "Train Epoch: 3 [14720/60000 (25%)]\tLoss: 0.217817\n",
      "Train Epoch: 3 [15360/60000 (26%)]\tLoss: 0.209298\n",
      "Train Epoch: 3 [16000/60000 (27%)]\tLoss: 0.215303\n",
      "Train Epoch: 3 [16640/60000 (28%)]\tLoss: 0.196378\n",
      "Train Epoch: 3 [17280/60000 (29%)]\tLoss: 0.411871\n",
      "Train Epoch: 3 [17920/60000 (30%)]\tLoss: 0.203410\n",
      "Train Epoch: 3 [18560/60000 (31%)]\tLoss: 0.355048\n",
      "Train Epoch: 3 [19200/60000 (32%)]\tLoss: 0.164115\n",
      "Train Epoch: 3 [19840/60000 (33%)]\tLoss: 0.192495\n",
      "Train Epoch: 3 [20480/60000 (34%)]\tLoss: 0.591723\n",
      "Train Epoch: 3 [21120/60000 (35%)]\tLoss: 0.319366\n",
      "Train Epoch: 3 [21760/60000 (36%)]\tLoss: 0.299047\n",
      "Train Epoch: 3 [22400/60000 (37%)]\tLoss: 0.206971\n",
      "Train Epoch: 3 [23040/60000 (38%)]\tLoss: 0.214226\n",
      "Train Epoch: 3 [23680/60000 (39%)]\tLoss: 0.472031\n",
      "Train Epoch: 3 [24320/60000 (41%)]\tLoss: 0.318670\n",
      "Train Epoch: 3 [24960/60000 (42%)]\tLoss: 0.202198\n",
      "Train Epoch: 3 [25600/60000 (43%)]\tLoss: 0.515971\n",
      "Train Epoch: 3 [26240/60000 (44%)]\tLoss: 0.324445\n",
      "Train Epoch: 3 [26880/60000 (45%)]\tLoss: 0.309805\n",
      "Train Epoch: 3 [27520/60000 (46%)]\tLoss: 0.191839\n",
      "Train Epoch: 3 [28160/60000 (47%)]\tLoss: 0.374593\n",
      "Train Epoch: 3 [28800/60000 (48%)]\tLoss: 0.318019\n",
      "Train Epoch: 3 [29440/60000 (49%)]\tLoss: 0.318018\n",
      "Train Epoch: 3 [30080/60000 (50%)]\tLoss: 0.122630\n",
      "Train Epoch: 3 [30720/60000 (51%)]\tLoss: 0.476045\n",
      "Train Epoch: 3 [31360/60000 (52%)]\tLoss: 0.402412\n",
      "Train Epoch: 3 [32000/60000 (53%)]\tLoss: 0.138207\n",
      "Train Epoch: 3 [32640/60000 (54%)]\tLoss: 0.287471\n",
      "Train Epoch: 3 [33280/60000 (55%)]\tLoss: 0.452441\n",
      "Train Epoch: 3 [33920/60000 (57%)]\tLoss: 0.241578\n",
      "Train Epoch: 3 [34560/60000 (58%)]\tLoss: 0.260995\n",
      "Train Epoch: 3 [35200/60000 (59%)]\tLoss: 0.427498\n",
      "Train Epoch: 3 [35840/60000 (60%)]\tLoss: 0.292739\n",
      "Train Epoch: 3 [36480/60000 (61%)]\tLoss: 0.501901\n",
      "Train Epoch: 3 [37120/60000 (62%)]\tLoss: 0.591864\n",
      "Train Epoch: 3 [37760/60000 (63%)]\tLoss: 0.429624\n",
      "Train Epoch: 3 [38400/60000 (64%)]\tLoss: 0.263326\n",
      "Train Epoch: 3 [39040/60000 (65%)]\tLoss: 0.334132\n",
      "Train Epoch: 3 [39680/60000 (66%)]\tLoss: 0.186712\n",
      "Train Epoch: 3 [40320/60000 (67%)]\tLoss: 0.238754\n",
      "Train Epoch: 3 [40960/60000 (68%)]\tLoss: 0.414834\n",
      "Train Epoch: 3 [41600/60000 (69%)]\tLoss: 0.293880\n",
      "Train Epoch: 3 [42240/60000 (70%)]\tLoss: 0.349215\n",
      "Train Epoch: 3 [42880/60000 (71%)]\tLoss: 0.343768\n",
      "Train Epoch: 3 [43520/60000 (72%)]\tLoss: 0.536881\n",
      "Train Epoch: 3 [44160/60000 (74%)]\tLoss: 0.087057\n",
      "Train Epoch: 3 [44800/60000 (75%)]\tLoss: 0.289380\n",
      "Train Epoch: 3 [45440/60000 (76%)]\tLoss: 0.235083\n",
      "Train Epoch: 3 [46080/60000 (77%)]\tLoss: 0.264267\n",
      "Train Epoch: 3 [46720/60000 (78%)]\tLoss: 0.188753\n",
      "Train Epoch: 3 [47360/60000 (79%)]\tLoss: 0.213288\n",
      "Train Epoch: 3 [48000/60000 (80%)]\tLoss: 0.400762\n",
      "Train Epoch: 3 [48640/60000 (81%)]\tLoss: 0.135214\n",
      "Train Epoch: 3 [49280/60000 (82%)]\tLoss: 0.289038\n",
      "Train Epoch: 3 [49920/60000 (83%)]\tLoss: 0.361338\n",
      "Train Epoch: 3 [50560/60000 (84%)]\tLoss: 0.242644\n",
      "Train Epoch: 3 [51200/60000 (85%)]\tLoss: 0.458444\n",
      "Train Epoch: 3 [51840/60000 (86%)]\tLoss: 0.532179\n",
      "Train Epoch: 3 [52480/60000 (87%)]\tLoss: 0.589121\n",
      "Train Epoch: 3 [53120/60000 (88%)]\tLoss: 0.247089\n",
      "Train Epoch: 3 [53760/60000 (90%)]\tLoss: 0.248299\n",
      "Train Epoch: 3 [54400/60000 (91%)]\tLoss: 0.147870\n",
      "Train Epoch: 3 [55040/60000 (92%)]\tLoss: 0.199346\n",
      "Train Epoch: 3 [55680/60000 (93%)]\tLoss: 0.261482\n",
      "Train Epoch: 3 [56320/60000 (94%)]\tLoss: 0.384435\n",
      "Train Epoch: 3 [56960/60000 (95%)]\tLoss: 0.343006\n",
      "Train Epoch: 3 [57600/60000 (96%)]\tLoss: 0.199082\n",
      "Train Epoch: 3 [58240/60000 (97%)]\tLoss: 0.284986\n",
      "Train Epoch: 3 [58880/60000 (98%)]\tLoss: 0.260499\n",
      "Train Epoch: 3 [59520/60000 (99%)]\tLoss: 0.277623\n",
      "\n",
      "Test set: Avg. loss: 0.0934, Accuracy: 9697/10000 (97%)\n",
      "\n"
     ]
    }
   ],
   "source": [
    "test()\n",
    "for epoch in range(1, n_epochs + 1):\n",
    "  train(epoch)\n",
    "  test()"
   ]
  },
  {
   "cell_type": "code",
   "execution_count": 24,
   "metadata": {},
   "outputs": [
    {
     "ename": "ValueError",
     "evalue": "x and y must be the same size",
     "output_type": "error",
     "traceback": [
      "\u001b[1;31m---------------------------------------------------------------------------\u001b[0m",
      "\u001b[1;31mValueError\u001b[0m                                Traceback (most recent call last)",
      "\u001b[1;32md:\\Artificial Intelligence\\Deep Learning - AG\\nn_4.ipynb Cell 14\u001b[0m in \u001b[0;36m<cell line: 3>\u001b[1;34m()\u001b[0m\n\u001b[0;32m      <a href='vscode-notebook-cell:/d%3A/Artificial%20Intelligence/Deep%20Learning%20-%20AG/nn_4.ipynb#X16sZmlsZQ%3D%3D?line=0'>1</a>\u001b[0m fig \u001b[39m=\u001b[39m plt\u001b[39m.\u001b[39mfigure()\n\u001b[0;32m      <a href='vscode-notebook-cell:/d%3A/Artificial%20Intelligence/Deep%20Learning%20-%20AG/nn_4.ipynb#X16sZmlsZQ%3D%3D?line=1'>2</a>\u001b[0m plt\u001b[39m.\u001b[39mplot(train_counter, train_losses, color\u001b[39m=\u001b[39m\u001b[39m'\u001b[39m\u001b[39mblue\u001b[39m\u001b[39m'\u001b[39m)\n\u001b[1;32m----> <a href='vscode-notebook-cell:/d%3A/Artificial%20Intelligence/Deep%20Learning%20-%20AG/nn_4.ipynb#X16sZmlsZQ%3D%3D?line=2'>3</a>\u001b[0m plt\u001b[39m.\u001b[39;49mscatter(test_counter, test_losses, color\u001b[39m=\u001b[39;49m\u001b[39m'\u001b[39;49m\u001b[39mred\u001b[39;49m\u001b[39m'\u001b[39;49m)\n\u001b[0;32m      <a href='vscode-notebook-cell:/d%3A/Artificial%20Intelligence/Deep%20Learning%20-%20AG/nn_4.ipynb#X16sZmlsZQ%3D%3D?line=3'>4</a>\u001b[0m plt\u001b[39m.\u001b[39mlegend([\u001b[39m'\u001b[39m\u001b[39mTrain Loss\u001b[39m\u001b[39m'\u001b[39m, \u001b[39m'\u001b[39m\u001b[39mTest Loss\u001b[39m\u001b[39m'\u001b[39m], loc\u001b[39m=\u001b[39m\u001b[39m'\u001b[39m\u001b[39mupper right\u001b[39m\u001b[39m'\u001b[39m)\n\u001b[0;32m      <a href='vscode-notebook-cell:/d%3A/Artificial%20Intelligence/Deep%20Learning%20-%20AG/nn_4.ipynb#X16sZmlsZQ%3D%3D?line=4'>5</a>\u001b[0m plt\u001b[39m.\u001b[39mxlabel(\u001b[39m'\u001b[39m\u001b[39mnumber of training examples seen\u001b[39m\u001b[39m'\u001b[39m)\n",
      "File \u001b[1;32mc:\\Users\\ShahwarN\\Anaconda3\\lib\\site-packages\\matplotlib\\pyplot.py:2807\u001b[0m, in \u001b[0;36mscatter\u001b[1;34m(x, y, s, c, marker, cmap, norm, vmin, vmax, alpha, linewidths, edgecolors, plotnonfinite, data, **kwargs)\u001b[0m\n\u001b[0;32m   2802\u001b[0m \u001b[39m@_copy_docstring_and_deprecators\u001b[39m(Axes\u001b[39m.\u001b[39mscatter)\n\u001b[0;32m   2803\u001b[0m \u001b[39mdef\u001b[39;00m \u001b[39mscatter\u001b[39m(\n\u001b[0;32m   2804\u001b[0m         x, y, s\u001b[39m=\u001b[39m\u001b[39mNone\u001b[39;00m, c\u001b[39m=\u001b[39m\u001b[39mNone\u001b[39;00m, marker\u001b[39m=\u001b[39m\u001b[39mNone\u001b[39;00m, cmap\u001b[39m=\u001b[39m\u001b[39mNone\u001b[39;00m, norm\u001b[39m=\u001b[39m\u001b[39mNone\u001b[39;00m,\n\u001b[0;32m   2805\u001b[0m         vmin\u001b[39m=\u001b[39m\u001b[39mNone\u001b[39;00m, vmax\u001b[39m=\u001b[39m\u001b[39mNone\u001b[39;00m, alpha\u001b[39m=\u001b[39m\u001b[39mNone\u001b[39;00m, linewidths\u001b[39m=\u001b[39m\u001b[39mNone\u001b[39;00m, \u001b[39m*\u001b[39m,\n\u001b[0;32m   2806\u001b[0m         edgecolors\u001b[39m=\u001b[39m\u001b[39mNone\u001b[39;00m, plotnonfinite\u001b[39m=\u001b[39m\u001b[39mFalse\u001b[39;00m, data\u001b[39m=\u001b[39m\u001b[39mNone\u001b[39;00m, \u001b[39m*\u001b[39m\u001b[39m*\u001b[39mkwargs):\n\u001b[1;32m-> 2807\u001b[0m     __ret \u001b[39m=\u001b[39m gca()\u001b[39m.\u001b[39mscatter(\n\u001b[0;32m   2808\u001b[0m         x, y, s\u001b[39m=\u001b[39ms, c\u001b[39m=\u001b[39mc, marker\u001b[39m=\u001b[39mmarker, cmap\u001b[39m=\u001b[39mcmap, norm\u001b[39m=\u001b[39mnorm,\n\u001b[0;32m   2809\u001b[0m         vmin\u001b[39m=\u001b[39mvmin, vmax\u001b[39m=\u001b[39mvmax, alpha\u001b[39m=\u001b[39malpha, linewidths\u001b[39m=\u001b[39mlinewidths,\n\u001b[0;32m   2810\u001b[0m         edgecolors\u001b[39m=\u001b[39medgecolors, plotnonfinite\u001b[39m=\u001b[39mplotnonfinite,\n\u001b[0;32m   2811\u001b[0m         \u001b[39m*\u001b[39m\u001b[39m*\u001b[39m({\u001b[39m\"\u001b[39m\u001b[39mdata\u001b[39m\u001b[39m\"\u001b[39m: data} \u001b[39mif\u001b[39;00m data \u001b[39mis\u001b[39;00m \u001b[39mnot\u001b[39;00m \u001b[39mNone\u001b[39;00m \u001b[39melse\u001b[39;00m {}), \u001b[39m*\u001b[39m\u001b[39m*\u001b[39mkwargs)\n\u001b[0;32m   2812\u001b[0m     sci(__ret)\n\u001b[0;32m   2813\u001b[0m     \u001b[39mreturn\u001b[39;00m __ret\n",
      "File \u001b[1;32mc:\\Users\\ShahwarN\\Anaconda3\\lib\\site-packages\\matplotlib\\__init__.py:1412\u001b[0m, in \u001b[0;36m_preprocess_data.<locals>.inner\u001b[1;34m(ax, data, *args, **kwargs)\u001b[0m\n\u001b[0;32m   1409\u001b[0m \u001b[39m@functools\u001b[39m\u001b[39m.\u001b[39mwraps(func)\n\u001b[0;32m   1410\u001b[0m \u001b[39mdef\u001b[39;00m \u001b[39minner\u001b[39m(ax, \u001b[39m*\u001b[39margs, data\u001b[39m=\u001b[39m\u001b[39mNone\u001b[39;00m, \u001b[39m*\u001b[39m\u001b[39m*\u001b[39mkwargs):\n\u001b[0;32m   1411\u001b[0m     \u001b[39mif\u001b[39;00m data \u001b[39mis\u001b[39;00m \u001b[39mNone\u001b[39;00m:\n\u001b[1;32m-> 1412\u001b[0m         \u001b[39mreturn\u001b[39;00m func(ax, \u001b[39m*\u001b[39m\u001b[39mmap\u001b[39m(sanitize_sequence, args), \u001b[39m*\u001b[39m\u001b[39m*\u001b[39mkwargs)\n\u001b[0;32m   1414\u001b[0m     bound \u001b[39m=\u001b[39m new_sig\u001b[39m.\u001b[39mbind(ax, \u001b[39m*\u001b[39margs, \u001b[39m*\u001b[39m\u001b[39m*\u001b[39mkwargs)\n\u001b[0;32m   1415\u001b[0m     auto_label \u001b[39m=\u001b[39m (bound\u001b[39m.\u001b[39marguments\u001b[39m.\u001b[39mget(label_namer)\n\u001b[0;32m   1416\u001b[0m                   \u001b[39mor\u001b[39;00m bound\u001b[39m.\u001b[39mkwargs\u001b[39m.\u001b[39mget(label_namer))\n",
      "File \u001b[1;32mc:\\Users\\ShahwarN\\Anaconda3\\lib\\site-packages\\matplotlib\\axes\\_axes.py:4369\u001b[0m, in \u001b[0;36mAxes.scatter\u001b[1;34m(self, x, y, s, c, marker, cmap, norm, vmin, vmax, alpha, linewidths, edgecolors, plotnonfinite, **kwargs)\u001b[0m\n\u001b[0;32m   4367\u001b[0m y \u001b[39m=\u001b[39m np\u001b[39m.\u001b[39mma\u001b[39m.\u001b[39mravel(y)\n\u001b[0;32m   4368\u001b[0m \u001b[39mif\u001b[39;00m x\u001b[39m.\u001b[39msize \u001b[39m!=\u001b[39m y\u001b[39m.\u001b[39msize:\n\u001b[1;32m-> 4369\u001b[0m     \u001b[39mraise\u001b[39;00m \u001b[39mValueError\u001b[39;00m(\u001b[39m\"\u001b[39m\u001b[39mx and y must be the same size\u001b[39m\u001b[39m\"\u001b[39m)\n\u001b[0;32m   4371\u001b[0m \u001b[39mif\u001b[39;00m s \u001b[39mis\u001b[39;00m \u001b[39mNone\u001b[39;00m:\n\u001b[0;32m   4372\u001b[0m     s \u001b[39m=\u001b[39m (\u001b[39m20\u001b[39m \u001b[39mif\u001b[39;00m rcParams[\u001b[39m'\u001b[39m\u001b[39m_internal.classic_mode\u001b[39m\u001b[39m'\u001b[39m] \u001b[39melse\u001b[39;00m\n\u001b[0;32m   4373\u001b[0m          rcParams[\u001b[39m'\u001b[39m\u001b[39mlines.markersize\u001b[39m\u001b[39m'\u001b[39m] \u001b[39m*\u001b[39m\u001b[39m*\u001b[39m \u001b[39m2.0\u001b[39m)\n",
      "\u001b[1;31mValueError\u001b[0m: x and y must be the same size"
     ]
    },
    {
     "data": {
      "image/png": "[encoded data removed]",
      "text/plain": [
       "<Figure size 432x288 with 1 Axes>"
      ]
     },
     "metadata": {
      "needs_background": "light"
     },
     "output_type": "display_data"
    }
   ],
   "source": [
    "fig = plt.figure()\n",
    "plt.plot(train_counter, train_losses, color='blue')\n",
    "plt.scatter(test_counter, test_losses, color='red')\n",
    "plt.legend(['Train Loss', 'Test Loss'], loc='upper right')\n",
    "plt.xlabel('number of training examples seen')\n",
    "plt.ylabel('negative log likelihood loss')\n",
    "fig"
   ]
  },
  {
   "cell_type": "code",
   "execution_count": 25,
   "metadata": {},
   "outputs": [
    {
     "name": "stderr",
     "output_type": "stream",
     "text": [
      "C:\\Users\\ShahwarN\\AppData\\Local\\Temp\\ipykernel_23204\\161431047.py:17: UserWarning: Implicit dimension choice for log_softmax has been deprecated. Change the call to include dim=X as an argument.\n",
      "  return F.log_softmax(x)\n"
     ]
    }
   ],
   "source": [
    "with torch.no_grad():\n",
    "  output = network(example_data)"
   ]
  },
  {
   "cell_type": "code",
   "execution_count": 26,
   "metadata": {},
   "outputs": [
    {
     "data": {
      "image/png": "[encoded data removed]",
      "text/plain": [
       "<Figure size 432x288 with 6 Axes>"
      ]
     },
     "execution_count": 26,
     "metadata": {},
     "output_type": "execute_result"
    },
    {
     "data": {
      "image/png": "[encoded data removed]",
      "text/plain": [
       "<Figure size 432x288 with 6 Axes>"
      ]
     },
     "metadata": {},
     "output_type": "display_data"
    }
   ],
   "source": [
    "fig = plt.figure()\n",
    "for i in range(6):\n",
    "  plt.subplot(2,3,i+1)\n",
    "  plt.tight_layout()\n",
    "  plt.imshow(example_data[i][0], cmap='gray', interpolation='none')\n",
    "  plt.title(\"Prediction: {}\".format(\n",
    "    output.data.max(1, keepdim=True)[1][i].item()))\n",
    "  plt.xticks([])\n",
    "  plt.yticks([])\n",
    "fig"
   ]
  },
  {
   "attachments": {},
   "cell_type": "markdown",
   "metadata": {},
   "source": [
    "https://nextjournal.com/gkoehler/pytorch-mnist"
   ]
  },
  {
   "cell_type": "code",
   "execution_count": null,
   "metadata": {},
   "outputs": [],
   "source": []
  }
 ],
 "metadata": {
  "kernelspec": {
   "display_name": "Python 3",
   "language": "python",
   "name": "python3"
  },
  "language_info": {
   "codemirror_mode": {
    "name": "ipython",
    "version": 3
   },
   "file_extension": ".py",
   "mimetype": "text/x-python",
   "name": "python",
   "nbconvert_exporter": "python",
   "pygments_lexer": "ipython3",
   "version": "3.9.12"
  },
  "orig_nbformat": 4,
  "vscode": {
   "interpreter": {
    "hash": "902084c18ee3cea220258ba56635ff2474372d416708ec2a7929fff0396900de"
   }
  }
 },
 "nbformat": 4,
 "nbformat_minor": 2
}
